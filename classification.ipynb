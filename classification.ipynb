{
  "nbformat": 4,
  "nbformat_minor": 0,
  "metadata": {
    "colab": {
      "provenance": [],
      "authorship_tag": "ABX9TyNJhfpVCClnGtgADAQM6g44",
      "include_colab_link": true
    },
    "kernelspec": {
      "name": "python3",
      "display_name": "Python 3"
    },
    "language_info": {
      "name": "python"
    }
  },
  "cells": [
    {
      "cell_type": "markdown",
      "metadata": {
        "id": "view-in-github",
        "colab_type": "text"
      },
      "source": [
        "<a href=\"https://colab.research.google.com/github/Elwing-Chou/ximen0725/blob/main/classification.ipynb\" target=\"_parent\"><img src=\"https://colab.research.google.com/assets/colab-badge.svg\" alt=\"Open In Colab\"/></a>"
      ]
    },
    {
      "cell_type": "code",
      "execution_count": null,
      "metadata": {
        "id": "-kTyW2pIDt-v"
      },
      "outputs": [],
      "source": [
        "import pandas as pd\n",
        "from sklearn.datasets import load_iris\n",
        "iris = load_iris()\n",
        "datas = pd.DataFrame(iris[\"data\"], columns=iris[\"feature_names\"])\n",
        "datas[\"ans\"] = iris[\"target\"]\n",
        "datas"
      ]
    },
    {
      "cell_type": "code",
      "source": [
        "from sklearn.model_selection import train_test_split\n",
        "# demo\n",
        "# train_test_split([1, 2, 3, 4],\n",
        "#          [5, 6, 7, 8],\n",
        "#          [9, 10, 11, 12],\n",
        "#          test_size=0.25)\n",
        "# demo\n",
        "x = datas.drop(\"ans\", axis=1)\n",
        "y = datas[\"ans\"]\n",
        "x_train, x_test, y_train, y_test = train_test_split(x, y, test_size=0.1)"
      ],
      "metadata": {
        "id": "aImRkwepF9hO"
      },
      "execution_count": 13,
      "outputs": []
    }
  ]
}